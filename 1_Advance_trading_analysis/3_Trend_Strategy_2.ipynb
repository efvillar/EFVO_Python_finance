{
 "cells": [
  {
   "cell_type": "markdown",
   "metadata": {},
   "source": [
    "# Trend Strategy 2"
   ]
  },
  {
   "cell_type": "markdown",
   "metadata": {},
   "source": [
    "### Import libraries"
   ]
  },
  {
   "cell_type": "code",
   "execution_count": 2,
   "metadata": {},
   "outputs": [],
   "source": [
    "import numpy as np\n",
    "import pandas as pd\n",
    "import matplotlib.pyplot as plt\n",
    "import scipy.stats as st\n",
    "import statsmodels.stats.multitest as mt\n",
    "import arch.bootstrap as boot\n",
    "import pyalgotrade.barfeed.csvfeed as csvfeed\n",
    "import pyalgotrade.bar as bar\n",
    "import pyalgotrade.strategy as strategy\n",
    "import pyalgotrade.technical.macd as macd\n",
    "import pyalgotrade.broker as broker\n",
    "import pyalgotrade.stratanalyzer.returns as ret\n",
    "import pyalgotrade.plotter as plotter\n",
    "import datetime as dt\n",
    "import itertools\n",
    "import time"
   ]
  },
  {
   "cell_type": "markdown",
   "metadata": {},
   "source": [
    "# Create Strategy Class"
   ]
  },
  {
   "cell_type": "code",
   "execution_count": 3,
   "metadata": {},
   "outputs": [],
   "source": [
    "class TrendStrategy2(strategy.BacktestingStrategy):\n",
    "\n",
    "    # 2.1. Define Strategy Initialization Function\n",
    "    def __init__(self, feed, instrument, nfastEMA, nslowEMA, nsignalEMA):\n",
    "        super(TrendStrategy2, self).__init__(feed, 10000)\n",
    "        self.position = None\n",
    "        self.instrument = instrument\n",
    "        self.setUseAdjustedValues(True)\n",
    "        self.macd = macd.MACD(feed[instrument].getPriceDataSeries(), nfastEMA, nslowEMA, nsignalEMA)\n",
    "\n",
    "    # 2.2. Define Get Technical Indicators Functions\n",
    "    def getMACD(self):\n",
    "        return self.macd\n",
    "\n",
    "    # 2.3. Define Overriding Strategy Functions\n",
    "\n",
    "    # onEnterCanceled: Get notified when order submitted to enter a position was canceled and update position\n",
    "    def onEnterCanceled(self, position):\n",
    "        self.position = None\n",
    "\n",
    "    # onExitOk: Get notified when order submitted to exit a position was filled and update position\n",
    "    def onExitOk(self, position):\n",
    "        self.position = None\n",
    "\n",
    "    # onExitCanceled: Get notified when order submitted to exit a position was canceled and re-submit order\n",
    "    def onExitCanceled(self, position):\n",
    "         self.position.exitMarket()\n",
    "\n",
    "    # 2.4. Define Trading Strategy Function\n",
    "\n",
    "    # Trend-Following Momentum Strategy\n",
    "    # Enter Long Order = Buy when MACD Histogram > 0,\n",
    "    # Exit Order = Sell when MACD Histogram < 0\n",
    "\n",
    "    def onBars(self, bars):\n",
    "        if self.macd[-1] is None:\n",
    "            return\n",
    "\n",
    "        if self.position is None:\n",
    "            if self.macd.getHistogram()[-1] > 0:\n",
    "                # 95% equity investment for difference between order day Close price and next day Open price\n",
    "                # number of shares can also be a fixed quantity for all transactions (ex. self.shares = 10)\n",
    "                self.shares = int(self.getBroker().getCash() * 0.95 / bars[self.instrument].getPrice())\n",
    "                self.position = self.enterLong(self.instrument, self.shares, goodTillCanceled=True)\n",
    "\n",
    "        elif self.macd.getHistogram()[-1] < 0 and not self.position.exitActive():\n",
    "            self.position.exitMarket()"
   ]
  },
  {
   "cell_type": "markdown",
   "metadata": {},
   "source": [
    "### Define Run Strategy Function"
   ]
  },
  {
   "cell_type": "code",
   "execution_count": 5,
   "metadata": {},
   "outputs": [],
   "source": [
    "def TrendStrategyRun2(nfastEMA, nslowEMA, nsignalEMA, chart):\n",
    "\n",
    "    # 3.1. Create Instruments object with stock tickers\n",
    "    instruments = ['SPY']\n",
    "\n",
    "    # 3.2. Load CSV Feed previously downloaded or read\n",
    "    feed = csvfeed.GenericBarFeed(bar.Frequency.DAY)\n",
    "    feed.addBarsFromCSV(instruments[0], './Advanced-Trading-Analysis-Data.txt', skipMalformedBars=True)\n",
    "\n",
    "    # 3.3. Evaluate Strategy with CSV Feed and Technical Indicator Parameters\n",
    "    trendStrategy2 = TrendStrategy2(feed, instruments[0], nfastEMA, nslowEMA, nsignalEMA)\n",
    "\n",
    "    # 3.4. Set Strategy Commission\n",
    "    trendStrategy2.getBroker().setCommission(broker.backtesting.FixedPerTrade(6))\n",
    "\n",
    "    # 3.5. Attach Strategy Trading Statistics Analyzers\n",
    "    retAnalyzer = ret.Returns(maxLen=2518)\n",
    "    trendStrategy2.attachAnalyzer(retAnalyzer)\n",
    "\n",
    "    # 3.6. Attach Strategy Plotter\n",
    "    plt = plotter.StrategyPlotter(trendStrategy2, plotPortfolio=False)\n",
    "    plt.getOrCreateSubplot('MACD Hist').addDataSeries('MACD Hist', trendStrategy2.getMACD().getHistogram())\n",
    "    plt.getOrCreateSubplot('MACD Hist').addLine('Center', level=0)\n",
    "\n",
    "    # 3.7. Run Strategy\n",
    "    trendStrategy2.run()\n",
    "\n",
    "    # 3.8. Calculate Strategy Returns\n",
    "    datesReturns = retAnalyzer.getReturns().getDateTimes()[:]\n",
    "    dailyReturns = retAnalyzer.getReturns()[:]\n",
    "    dailyReturns = pd.DataFrame(dailyReturns).set_index(pd.DatetimeIndex(datesReturns))\n",
    "\n",
    "    # 3.9. Plot Strategy\n",
    "    if chart == True:\n",
    "        plt.plot(fromDateTime=dt.datetime(2016, 1, 1), toDateTime=dt.datetime(2016, 12, 31))\n",
    "\n",
    "    return dailyReturns"
   ]
  },
  {
   "cell_type": "markdown",
   "metadata": {},
   "source": [
    "##### Plot Strategy Example"
   ]
  },
  {
   "cell_type": "code",
   "execution_count": 6,
   "metadata": {},
   "outputs": [
    {
     "name": "stderr",
     "output_type": "stream",
     "text": [
      "C:\\Users\\evillarraga\\AppData\\Local\\Continuum\\anaconda3\\lib\\site-packages\\pandas\\plotting\\_converter.py:129: FutureWarning: Using an implicitly registered datetime converter for a matplotlib plotting method. The converter was registered by pandas on import. Future versions of pandas will require you to explicitly register matplotlib converters.\n",
      "\n",
      "To register the converters:\n",
      "\t>>> from pandas.plotting import register_matplotlib_converters\n",
      "\t>>> register_matplotlib_converters()\n",
      "  warnings.warn(msg, FutureWarning)\n"
     ]
    },
    {
     "data": {
      "image/png": "[encoded data removed]",
      "text/plain": [
       "<Figure size 432x288 with 2 Axes>"
      ]
     },
     "metadata": {
      "needs_background": "light"
     },
     "output_type": "display_data"
    },
    {
     "data": {
      "text/html": [
       "<div>\n",
       "<style scoped>\n",
       "    .dataframe tbody tr th:only-of-type {\n",
       "        vertical-align: middle;\n",
       "    }\n",
       "\n",
       "    .dataframe tbody tr th {\n",
       "        vertical-align: top;\n",
       "    }\n",
       "\n",
       "    .dataframe thead th {\n",
       "        text-align: right;\n",
       "    }\n",
       "</style>\n",
       "<table border=\"1\" class=\"dataframe\">\n",
       "  <thead>\n",
       "    <tr style=\"text-align: right;\">\n",
       "      <th></th>\n",
       "      <th>0</th>\n",
       "    </tr>\n",
       "  </thead>\n",
       "  <tbody>\n",
       "    <tr>\n",
       "      <th>2007-01-03</th>\n",
       "      <td>0.000000</td>\n",
       "    </tr>\n",
       "    <tr>\n",
       "      <th>2007-01-04</th>\n",
       "      <td>0.000000</td>\n",
       "    </tr>\n",
       "    <tr>\n",
       "      <th>2007-01-05</th>\n",
       "      <td>0.000000</td>\n",
       "    </tr>\n",
       "    <tr>\n",
       "      <th>2007-01-08</th>\n",
       "      <td>0.000000</td>\n",
       "    </tr>\n",
       "    <tr>\n",
       "      <th>2007-01-09</th>\n",
       "      <td>0.000000</td>\n",
       "    </tr>\n",
       "    <tr>\n",
       "      <th>2007-01-10</th>\n",
       "      <td>0.000000</td>\n",
       "    </tr>\n",
       "    <tr>\n",
       "      <th>2007-01-11</th>\n",
       "      <td>0.000000</td>\n",
       "    </tr>\n",
       "    <tr>\n",
       "      <th>2007-01-12</th>\n",
       "      <td>0.000000</td>\n",
       "    </tr>\n",
       "    <tr>\n",
       "      <th>2007-01-16</th>\n",
       "      <td>0.000000</td>\n",
       "    </tr>\n",
       "    <tr>\n",
       "      <th>2007-01-17</th>\n",
       "      <td>0.000000</td>\n",
       "    </tr>\n",
       "    <tr>\n",
       "      <th>2007-01-18</th>\n",
       "      <td>0.000000</td>\n",
       "    </tr>\n",
       "    <tr>\n",
       "      <th>2007-01-19</th>\n",
       "      <td>0.000000</td>\n",
       "    </tr>\n",
       "    <tr>\n",
       "      <th>2007-01-22</th>\n",
       "      <td>0.000000</td>\n",
       "    </tr>\n",
       "    <tr>\n",
       "      <th>2007-01-23</th>\n",
       "      <td>0.000000</td>\n",
       "    </tr>\n",
       "    <tr>\n",
       "      <th>2007-01-24</th>\n",
       "      <td>0.000000</td>\n",
       "    </tr>\n",
       "    <tr>\n",
       "      <th>2007-01-25</th>\n",
       "      <td>0.000000</td>\n",
       "    </tr>\n",
       "    <tr>\n",
       "      <th>2007-01-26</th>\n",
       "      <td>0.000000</td>\n",
       "    </tr>\n",
       "    <tr>\n",
       "      <th>2007-01-29</th>\n",
       "      <td>0.000000</td>\n",
       "    </tr>\n",
       "    <tr>\n",
       "      <th>2007-01-30</th>\n",
       "      <td>0.000000</td>\n",
       "    </tr>\n",
       "    <tr>\n",
       "      <th>2007-01-31</th>\n",
       "      <td>0.000000</td>\n",
       "    </tr>\n",
       "    <tr>\n",
       "      <th>2007-02-01</th>\n",
       "      <td>0.000000</td>\n",
       "    </tr>\n",
       "    <tr>\n",
       "      <th>2007-02-02</th>\n",
       "      <td>0.000000</td>\n",
       "    </tr>\n",
       "    <tr>\n",
       "      <th>2007-02-05</th>\n",
       "      <td>0.000000</td>\n",
       "    </tr>\n",
       "    <tr>\n",
       "      <th>2007-02-06</th>\n",
       "      <td>0.000000</td>\n",
       "    </tr>\n",
       "    <tr>\n",
       "      <th>2007-02-07</th>\n",
       "      <td>0.000000</td>\n",
       "    </tr>\n",
       "    <tr>\n",
       "      <th>2007-02-08</th>\n",
       "      <td>0.000000</td>\n",
       "    </tr>\n",
       "    <tr>\n",
       "      <th>2007-02-09</th>\n",
       "      <td>0.000000</td>\n",
       "    </tr>\n",
       "    <tr>\n",
       "      <th>2007-02-12</th>\n",
       "      <td>0.000000</td>\n",
       "    </tr>\n",
       "    <tr>\n",
       "      <th>2007-02-13</th>\n",
       "      <td>0.000000</td>\n",
       "    </tr>\n",
       "    <tr>\n",
       "      <th>2007-02-14</th>\n",
       "      <td>0.000000</td>\n",
       "    </tr>\n",
       "    <tr>\n",
       "      <th>...</th>\n",
       "      <td>...</td>\n",
       "    </tr>\n",
       "    <tr>\n",
       "      <th>2016-11-17</th>\n",
       "      <td>0.004783</td>\n",
       "    </tr>\n",
       "    <tr>\n",
       "      <th>2016-11-18</th>\n",
       "      <td>-0.002083</td>\n",
       "    </tr>\n",
       "    <tr>\n",
       "      <th>2016-11-21</th>\n",
       "      <td>0.007028</td>\n",
       "    </tr>\n",
       "    <tr>\n",
       "      <th>2016-11-22</th>\n",
       "      <td>0.001819</td>\n",
       "    </tr>\n",
       "    <tr>\n",
       "      <th>2016-11-23</th>\n",
       "      <td>0.000507</td>\n",
       "    </tr>\n",
       "    <tr>\n",
       "      <th>2016-11-25</th>\n",
       "      <td>0.003460</td>\n",
       "    </tr>\n",
       "    <tr>\n",
       "      <th>2016-11-28</th>\n",
       "      <td>-0.004373</td>\n",
       "    </tr>\n",
       "    <tr>\n",
       "      <th>2016-11-29</th>\n",
       "      <td>0.001816</td>\n",
       "    </tr>\n",
       "    <tr>\n",
       "      <th>2016-11-30</th>\n",
       "      <td>-0.002235</td>\n",
       "    </tr>\n",
       "    <tr>\n",
       "      <th>2016-12-01</th>\n",
       "      <td>-0.003422</td>\n",
       "    </tr>\n",
       "    <tr>\n",
       "      <th>2016-12-02</th>\n",
       "      <td>0.000466</td>\n",
       "    </tr>\n",
       "    <tr>\n",
       "      <th>2016-12-05</th>\n",
       "      <td>0.005594</td>\n",
       "    </tr>\n",
       "    <tr>\n",
       "      <th>2016-12-06</th>\n",
       "      <td>0.002950</td>\n",
       "    </tr>\n",
       "    <tr>\n",
       "      <th>2016-12-07</th>\n",
       "      <td>0.012186</td>\n",
       "    </tr>\n",
       "    <tr>\n",
       "      <th>2016-12-08</th>\n",
       "      <td>0.002283</td>\n",
       "    </tr>\n",
       "    <tr>\n",
       "      <th>2016-12-09</th>\n",
       "      <td>0.005633</td>\n",
       "    </tr>\n",
       "    <tr>\n",
       "      <th>2016-12-12</th>\n",
       "      <td>-0.001071</td>\n",
       "    </tr>\n",
       "    <tr>\n",
       "      <th>2016-12-13</th>\n",
       "      <td>0.006226</td>\n",
       "    </tr>\n",
       "    <tr>\n",
       "      <th>2016-12-14</th>\n",
       "      <td>-0.007703</td>\n",
       "    </tr>\n",
       "    <tr>\n",
       "      <th>2016-12-15</th>\n",
       "      <td>0.003840</td>\n",
       "    </tr>\n",
       "    <tr>\n",
       "      <th>2016-12-16</th>\n",
       "      <td>-0.001825</td>\n",
       "    </tr>\n",
       "    <tr>\n",
       "      <th>2016-12-19</th>\n",
       "      <td>0.002031</td>\n",
       "    </tr>\n",
       "    <tr>\n",
       "      <th>2016-12-20</th>\n",
       "      <td>0.003599</td>\n",
       "    </tr>\n",
       "    <tr>\n",
       "      <th>2016-12-21</th>\n",
       "      <td>-0.002597</td>\n",
       "    </tr>\n",
       "    <tr>\n",
       "      <th>2016-12-22</th>\n",
       "      <td>-0.001612</td>\n",
       "    </tr>\n",
       "    <tr>\n",
       "      <th>2016-12-23</th>\n",
       "      <td>-0.000266</td>\n",
       "    </tr>\n",
       "    <tr>\n",
       "      <th>2016-12-27</th>\n",
       "      <td>0.000000</td>\n",
       "    </tr>\n",
       "    <tr>\n",
       "      <th>2016-12-28</th>\n",
       "      <td>0.000000</td>\n",
       "    </tr>\n",
       "    <tr>\n",
       "      <th>2016-12-29</th>\n",
       "      <td>0.000000</td>\n",
       "    </tr>\n",
       "    <tr>\n",
       "      <th>2016-12-30</th>\n",
       "      <td>0.000000</td>\n",
       "    </tr>\n",
       "  </tbody>\n",
       "</table>\n",
       "<p>2516 rows × 1 columns</p>\n",
       "</div>"
      ],
      "text/plain": [
       "                   0\n",
       "2007-01-03  0.000000\n",
       "2007-01-04  0.000000\n",
       "2007-01-05  0.000000\n",
       "2007-01-08  0.000000\n",
       "2007-01-09  0.000000\n",
       "2007-01-10  0.000000\n",
       "2007-01-11  0.000000\n",
       "2007-01-12  0.000000\n",
       "2007-01-16  0.000000\n",
       "2007-01-17  0.000000\n",
       "2007-01-18  0.000000\n",
       "2007-01-19  0.000000\n",
       "2007-01-22  0.000000\n",
       "2007-01-23  0.000000\n",
       "2007-01-24  0.000000\n",
       "2007-01-25  0.000000\n",
       "2007-01-26  0.000000\n",
       "2007-01-29  0.000000\n",
       "2007-01-30  0.000000\n",
       "2007-01-31  0.000000\n",
       "2007-02-01  0.000000\n",
       "2007-02-02  0.000000\n",
       "2007-02-05  0.000000\n",
       "2007-02-06  0.000000\n",
       "2007-02-07  0.000000\n",
       "2007-02-08  0.000000\n",
       "2007-02-09  0.000000\n",
       "2007-02-12  0.000000\n",
       "2007-02-13  0.000000\n",
       "2007-02-14  0.000000\n",
       "...              ...\n",
       "2016-11-17  0.004783\n",
       "2016-11-18 -0.002083\n",
       "2016-11-21  0.007028\n",
       "2016-11-22  0.001819\n",
       "2016-11-23  0.000507\n",
       "2016-11-25  0.003460\n",
       "2016-11-28 -0.004373\n",
       "2016-11-29  0.001816\n",
       "2016-11-30 -0.002235\n",
       "2016-12-01 -0.003422\n",
       "2016-12-02  0.000466\n",
       "2016-12-05  0.005594\n",
       "2016-12-06  0.002950\n",
       "2016-12-07  0.012186\n",
       "2016-12-08  0.002283\n",
       "2016-12-09  0.005633\n",
       "2016-12-12 -0.001071\n",
       "2016-12-13  0.006226\n",
       "2016-12-14 -0.007703\n",
       "2016-12-15  0.003840\n",
       "2016-12-16 -0.001825\n",
       "2016-12-19  0.002031\n",
       "2016-12-20  0.003599\n",
       "2016-12-21 -0.002597\n",
       "2016-12-22 -0.001612\n",
       "2016-12-23 -0.000266\n",
       "2016-12-27  0.000000\n",
       "2016-12-28  0.000000\n",
       "2016-12-29  0.000000\n",
       "2016-12-30  0.000000\n",
       "\n",
       "[2516 rows x 1 columns]"
      ]
     },
     "execution_count": 6,
     "metadata": {},
     "output_type": "execute_result"
    }
   ],
   "source": [
    "TrendStrategyRun2(12, 26, 9, True)"
   ]
  },
  {
   "cell_type": "markdown",
   "metadata": {},
   "source": [
    "### Do Strategy Parameters Optimization and Calculate Performance Metrics"
   ]
  },
  {
   "cell_type": "code",
   "execution_count": 7,
   "metadata": {},
   "outputs": [],
   "source": [
    "# 4.1. Create Strategy Optimization Parameters Combinations\n",
    "nfastEMA = (9, 12)\n",
    "nslowEMA = (23, 26)\n",
    "pool = [nfastEMA, nslowEMA]"
   ]
  },
  {
   "cell_type": "code",
   "execution_count": 9,
   "metadata": {},
   "outputs": [],
   "source": [
    "# 4.2. Calculate Benchmark Daily Returns\n",
    "# 100% equity investment for buy and hold benchmark\n",
    "data = pd.read_csv('./Advanced-Trading-Analysis-Data.txt', index_col='Date Time', parse_dates=True)\n",
    "trend2DailyReturns = data['Adj Close'].pct_change(1)\n",
    "trend2DailyReturns[0] = 0\n",
    "trend2DailyReturns = pd.DataFrame(trend2DailyReturns)"
   ]
  },
  {
   "cell_type": "code",
   "execution_count": 10,
   "metadata": {},
   "outputs": [
    {
     "name": "stdout",
     "output_type": "stream",
     "text": [
      "\n",
      "== Strategy Parameters Optimization ==\n",
      "\n",
      "Parameters Combinations (nfastEMA, nslowEMA):\n",
      "(9, 23)\n",
      "(9, 26)\n",
      "(12, 23)\n",
      "(12, 26)\n",
      "\n",
      "Optimization Running Time:  1.081  seconds\n",
      "\n"
     ]
    }
   ],
   "source": [
    "# 4.3. Do Strategy Optimization\n",
    "trend2StartOptimization = time.time()\n",
    "print('')\n",
    "print('== Strategy Parameters Optimization ==')\n",
    "print('')\n",
    "print('Parameters Combinations (nfastEMA, nslowEMA):')\n",
    "for n in itertools.product(*pool):\n",
    "    print(n)\n",
    "    trend2DailyReturns.insert(len(trend2DailyReturns.columns), n, TrendStrategyRun2(n[0], n[1], 9, False))\n",
    "trend2EndOptimization = time.time()\n",
    "trend2DailyReturns.columns = ['B&H', 'Tr2Ret1', 'Tr2Ret2', 'Tr2Ret3', 'Tr2Ret4']\n",
    "print('')\n",
    "print('Optimization Running Time: ', round(trend2EndOptimization - trend2StartOptimization, 4), ' seconds')\n",
    "print('')"
   ]
  },
  {
   "cell_type": "code",
   "execution_count": 11,
   "metadata": {},
   "outputs": [],
   "source": [
    "# 4.4. Define Cumulative Returns and Performance Metrics Functions\n",
    "def CumulativeReturns(dailyReturns):\n",
    "    cumulativeReturns = np.cumprod(dailyReturns + 1) ** (252 / len(dailyReturns)) - 1\n",
    "    return cumulativeReturns\n",
    "\n",
    "def PerformanceMetrics(dailyReturns):\n",
    "    annualizedReturn = (np.cumprod(dailyReturns + 1) ** (252 / len(dailyReturns)) - 1)[-1]\n",
    "    annualizedStdDev = np.std(dailyReturns) * np.sqrt(252)\n",
    "    annualizedSharpe = annualizedReturn / annualizedStdDev\n",
    "    return annualizedReturn, annualizedStdDev, annualizedSharpe"
   ]
  },
  {
   "cell_type": "code",
   "execution_count": 12,
   "metadata": {},
   "outputs": [
    {
     "data": {
      "image/png": "[encoded data removed]",
      "text/plain": [
       "<Figure size 432x288 with 1 Axes>"
      ]
     },
     "metadata": {
      "needs_background": "light"
     },
     "output_type": "display_data"
    }
   ],
   "source": [
    "# 4.5. Chart Cumulative Returns Comparison\n",
    "trend2CumulativeReturns = trend2DailyReturns.apply(CumulativeReturns, axis=0)\n",
    "plt.plot(trend2CumulativeReturns['B&H'], label='B&H')\n",
    "plt.plot(trend2CumulativeReturns['Tr2Ret1'], label='Tr2Ret1')\n",
    "plt.plot(trend2CumulativeReturns['Tr2Ret2'], label='Tr2Ret2')\n",
    "plt.plot(trend2CumulativeReturns['Tr2Ret3'], label='Tr2Ret3')\n",
    "plt.plot(trend2CumulativeReturns['Tr2Ret4'], label='Tr2Ret4')\n",
    "plt.title('Strategy Parameters Optimization Cumulative Returns')\n",
    "plt.legend(loc='upper left')\n",
    "plt.show()"
   ]
  },
  {
   "cell_type": "code",
   "execution_count": 13,
   "metadata": {},
   "outputs": [
    {
     "name": "stdout",
     "output_type": "stream",
     "text": [
      "\n",
      "== Strategy Parameters Optimization Performace Summary ==\n",
      "\n",
      "                      0       1        2        3        4        5\n",
      "0           Annualized:     B&H  Tr2Ret1  Tr2Ret2  Tr2Ret3  Tr2Ret4\n",
      "1                Return   0.069  -0.0045  -0.0042   0.0151   0.0241\n",
      "2    Standard Deviation  0.2084   0.1172   0.1192   0.1132   0.1136\n",
      "3  Sharpe Ratio (Rf=0%)  0.3309  -0.0384  -0.0354   0.1337   0.2119\n",
      "\n"
     ]
    }
   ],
   "source": [
    "# 4.6. Calculate Performance Metrics and Print Summary Table\n",
    "trend2PerformanceMetrics = trend2DailyReturns.apply(PerformanceMetrics, axis=0)\n",
    "trend2PerformanceSummary = [{'0': 'Annualized:', '1': 'B&H', '2': 'Tr2Ret1', '3': 'Tr2Ret2', '4': 'Tr2Ret3',\n",
    "                             '5': 'Tr2Ret4'},\n",
    "        {'0': 'Return',\n",
    "         '1': np.round(trend2PerformanceMetrics[0][0], 4), '2': np.round(trend2PerformanceMetrics[1][0], 4),\n",
    "         '3': np.round(trend2PerformanceMetrics[2][0], 4), '4': np.round(trend2PerformanceMetrics[3][0], 4),\n",
    "         '5': np.round(trend2PerformanceMetrics[4][0], 4)},\n",
    "        {'0': 'Standard Deviation',\n",
    "         '1': np.round(trend2PerformanceMetrics[0][1], 4), '2': np.round(trend2PerformanceMetrics[1][1], 4),\n",
    "         '3': np.round(trend2PerformanceMetrics[2][1], 4), '4': np.round(trend2PerformanceMetrics[3][1], 4),\n",
    "         '5': np.round(trend2PerformanceMetrics[4][1], 4)},\n",
    "        {'0': 'Sharpe Ratio (Rf=0%)',\n",
    "         '1': np.round(trend2PerformanceMetrics[0][2], 4), '2': np.round(trend2PerformanceMetrics[1][2], 4),\n",
    "         '3': np.round(trend2PerformanceMetrics[2][2], 4), '4': np.round(trend2PerformanceMetrics[3][2], 4),\n",
    "         '5': np.round(trend2PerformanceMetrics[4][2], 4)}]\n",
    "trend2PerformanceSummary = pd.DataFrame(trend2PerformanceSummary)\n",
    "print('')\n",
    "print('== Strategy Parameters Optimization Performace Summary ==')\n",
    "print('')\n",
    "print(trend2PerformanceSummary)\n",
    "print('')"
   ]
  },
  {
   "cell_type": "markdown",
   "metadata": {},
   "source": [
    "### Do Multiple Hypothesis Testing P-Values Adjustments"
   ]
  },
  {
   "cell_type": "code",
   "execution_count": 14,
   "metadata": {},
   "outputs": [],
   "source": [
    "# 5.1. Calculate Multiple Hypothesis Testing P-Values\n",
    "trend2MultipleTTests = trend2DailyReturns.iloc[:, 1:5].apply(st.ttest_1samp, axis=0, popmean=0, nan_policy='omit')\n",
    "trend2MultiplePValues = (trend2MultipleTTests[0][1], trend2MultipleTTests[1][1], trend2MultipleTTests[2][1],\n",
    "                         trend2MultipleTTests[3][1])"
   ]
  },
  {
   "cell_type": "code",
   "execution_count": 15,
   "metadata": {},
   "outputs": [],
   "source": [
    "# 5.2. Adjust Multiple Hypothesis Testing P-Values Calculations\n",
    "trend2MultiplePValuesFWE = mt.multipletests(trend2MultiplePValues, alpha=0.05, method='bonferroni',\n",
    "                                                   is_sorted=False, returnsorted=False)\n",
    "trend2MultiplePValuesFDR = mt.multipletests(trend2MultiplePValues, alpha=0.05, method='fdr_bh',\n",
    "                                                   is_sorted=False, returnsorted=False)"
   ]
  },
  {
   "cell_type": "code",
   "execution_count": 16,
   "metadata": {},
   "outputs": [
    {
     "name": "stdout",
     "output_type": "stream",
     "text": [
      "\n",
      "== Multiple Hypothesis Testing P-Values Adjustments ==\n",
      "\n",
      "             0        1        2        3        4\n",
      "0               Tr2Ret1  Tr2Ret2  Tr2Ret3  Tr2Ret4\n",
      "1      PValues   0.9487   0.9387   0.5493   0.3999\n",
      "2  PValues FWE        1        1        1        1\n",
      "3  PValues FDR   0.9487   0.9487   0.9487   0.9487\n",
      "\n"
     ]
    }
   ],
   "source": [
    "# 5.3. Print Multiple Hypothesis Testing P-Values Adjustment Summary Table\n",
    "trend2MultiplePValuesSummary = [{'0': '', '1': 'Tr2Ret1', '2': 'Tr2Ret2', '3': 'Tr2Ret3', '4': 'Tr2Ret4'},\n",
    "        {'0': 'PValues',\n",
    "         '1': np.round(trend2MultiplePValues[0], 4), '2': np.round(trend2MultiplePValues[1], 4),\n",
    "         '3': np.round(trend2MultiplePValues[2], 4), '4': np.round(trend2MultiplePValues[3], 4)},\n",
    "        {'0': 'PValues FWE',\n",
    "         '1': np.round(trend2MultiplePValuesFWE[1][0], 4), '2': np.round(trend2MultiplePValuesFWE[1][1], 4),\n",
    "         '3': np.round(trend2MultiplePValuesFWE[1][2], 4), '4': np.round(trend2MultiplePValuesFWE[1][3], 4)},\n",
    "        {'0': 'PValues FDR',\n",
    "         '1': np.round(trend2MultiplePValuesFDR[1][0], 4), '2': np.round(trend2MultiplePValuesFDR[1][1], 4),\n",
    "         '3': np.round(trend2MultiplePValuesFDR[1][2], 4), '4': np.round(trend2MultiplePValuesFDR[1][3], 4)}]\n",
    "trend2MultiplePValuesSummary = pd.DataFrame(trend2MultiplePValuesSummary)\n",
    "print('')\n",
    "print('== Multiple Hypothesis Testing P-Values Adjustments ==')\n",
    "print('')\n",
    "print(trend2MultiplePValuesSummary)\n",
    "print('')"
   ]
  },
  {
   "cell_type": "markdown",
   "metadata": {},
   "source": [
    "### Do Individual Time Series Bootstrap P-Value Multiple Comparison Adjustment"
   ]
  },
  {
   "cell_type": "code",
   "execution_count": 17,
   "metadata": {},
   "outputs": [],
   "source": [
    "# 6.1. Define Bootstrap Mean Function\n",
    "def bmean(x):\n",
    "    return x.mean(0)"
   ]
  },
  {
   "cell_type": "code",
   "execution_count": 18,
   "metadata": {},
   "outputs": [
    {
     "name": "stdout",
     "output_type": "stream",
     "text": [
      "\n",
      "== Individual Time Series Bootstrap ==\n",
      "\n",
      "\n",
      "Bootstrap Running Time:  0.3209  seconds\n",
      "\n"
     ]
    }
   ],
   "source": [
    "# 6.2. Do Individual Time Series Bootstrap\n",
    "trend2StartBoot = time.time()\n",
    "print('')\n",
    "print('== Individual Time Series Bootstrap ==')\n",
    "print('')\n",
    "trend2Boot = boot.CircularBlockBootstrap(block_size=10, x=trend2DailyReturns.iloc[:, 4])\n",
    "trend2BootMeans = trend2Boot.apply(func=bmean, reps=1000)\n",
    "trend2BootIntervals = trend2Boot.conf_int(func=bmean, reps=1000, method='percentile', size=0.95, tail='two')\n",
    "trend2EndBoot = time.time()\n",
    "print('')\n",
    "print('Bootstrap Running Time: ', round(trend2EndBoot - trend2StartBoot, 4), ' seconds')\n",
    "print('')"
   ]
  },
  {
   "cell_type": "code",
   "execution_count": 19,
   "metadata": {},
   "outputs": [
    {
     "data": {
      "image/png": "[encoded data removed]",
      "text/plain": [
       "<Figure size 432x288 with 1 Axes>"
      ]
     },
     "metadata": {
      "needs_background": "light"
     },
     "output_type": "display_data"
    }
   ],
   "source": [
    "# 6.3. Chart Individual Time Series Bootstrap Histogram\n",
    "plt.hist(trend2BootMeans, bins=20, density=True, label='BootMeans')\n",
    "plt.title('Population Mean Probability Distribution Simulation')\n",
    "plt.axvline(x=np.mean(trend2DailyReturns.iloc[:, 4]), color='purple', linestyle='--', label='mean(Tr2Ret4)')\n",
    "plt.axvline(x=np.mean(trend2BootMeans), color='red', linestyle='--', label='mean(BootMeans)')\n",
    "plt.axvline(x=0, color='orange', linestyle='--')\n",
    "plt.axvline(x=trend2BootIntervals[0], color='green', linestyle='--', label='BootLowerCI')\n",
    "plt.axvline(x=trend2BootIntervals[1], color='green', linestyle='--', label='BootUpperCI')\n",
    "plt.ylabel('Density')\n",
    "plt.xlabel('Bin Edges')\n",
    "plt.legend(loc='upper right')\n",
    "plt.show()"
   ]
  },
  {
   "cell_type": "code",
   "execution_count": 20,
   "metadata": {},
   "outputs": [],
   "source": [
    "# 6.4. Calculate Individual Time Series Bootstrap P-Value\n",
    "trend2BootPValue = 2 * min(np.mean(trend2BootMeans <= 0), np.mean(trend2BootMeans > 0))"
   ]
  },
  {
   "cell_type": "code",
   "execution_count": 21,
   "metadata": {},
   "outputs": [
    {
     "name": "stdout",
     "output_type": "stream",
     "text": [
      "\n",
      "== Individual Time Series Bootstrap Hypothesis Testing ==\n",
      "\n",
      "Tr2Ret4 P-Value: 0.36\n",
      "Tr2Ret4 P-Value FWE: 0.8322\n"
     ]
    }
   ],
   "source": [
    "# 6.5. Adjust Individual Time Series Bootstrap P-Value Calculation\n",
    "trend2BootPValueFWE = 1 - (1 - trend2BootPValue) ** 4\n",
    "print('')\n",
    "print('== Individual Time Series Bootstrap Hypothesis Testing ==')\n",
    "print('')\n",
    "print('Tr2Ret4 P-Value:', np.round(trend2BootPValue, 4))\n",
    "print('Tr2Ret4 P-Value FWE:', np.round(trend2BootPValueFWE, 4))"
   ]
  },
  {
   "cell_type": "code",
   "execution_count": null,
   "metadata": {},
   "outputs": [],
   "source": []
  }
 ],
 "metadata": {
  "kernelspec": {
   "display_name": "Python 3",
   "language": "python",
   "name": "python3"
  },
  "language_info": {
   "codemirror_mode": {
    "name": "ipython",
    "version": 3
   },
   "file_extension": ".py",
   "mimetype": "text/x-python",
   "name": "python",
   "nbconvert_exporter": "python",
   "pygments_lexer": "ipython3",
   "version": "3.7.3"
  }
 },
 "nbformat": 4,
 "nbformat_minor": 4
}
