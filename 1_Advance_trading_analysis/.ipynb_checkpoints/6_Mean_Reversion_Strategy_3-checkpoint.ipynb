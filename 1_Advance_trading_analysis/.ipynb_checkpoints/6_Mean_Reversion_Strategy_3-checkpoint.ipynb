{
 "cells": [
  {
   "cell_type": "markdown",
   "metadata": {},
   "source": [
    "# Mean Reversion Strategy"
   ]
  },
  {
   "cell_type": "markdown",
   "metadata": {},
   "source": [
    "### Import Libraries"
   ]
  },
  {
   "cell_type": "code",
   "execution_count": 19,
   "metadata": {},
   "outputs": [],
   "source": [
    "import numpy as np\n",
    "import pandas as pd\n",
    "import matplotlib.pyplot as plt\n",
    "import scipy.stats as st\n",
    "import statsmodels.tsa.stattools as stats\n",
    "import statsmodels.stats.multitest as mt\n",
    "import arch.bootstrap as boot\n",
    "import pyalgotrade.barfeed.csvfeed as csvfeed\n",
    "import pyalgotrade.bar as bar\n",
    "import pyalgotrade.strategy as strategy\n",
    "import pyalgotrade.technical.roc as roc\n",
    "import pyalgotrade.technical.stats as tstats\n",
    "import pyalgotrade.broker as broker\n",
    "import pyalgotrade.stratanalyzer.returns as ret\n",
    "import pyalgotrade.plotter as plotter\n",
    "import datetime as dt\n",
    "import itertools\n",
    "import time"
   ]
  },
  {
   "cell_type": "markdown",
   "metadata": {},
   "source": [
    "### Evaluate Prices and Returns Stationary Time Series"
   ]
  },
  {
   "cell_type": "code",
   "execution_count": 36,
   "metadata": {},
   "outputs": [
    {
     "name": "stdout",
     "output_type": "stream",
     "text": [
      "\n",
      "== SPY Daily Prices Augmented Dickey-Fuller Test ADF ==\n",
      "\n",
      "Test statistic:    0.5428\n",
      "p-value:           0.9861\n",
      "dtype: float64\n",
      "\n",
      "== SPY Daily Returns Augmented Dickey-Fuller Test ADF ==\n",
      "\n",
      "Test statistic:   -11.568\n",
      "p-value:            0.000\n",
      "dtype: float64\n",
      "\n"
     ]
    }
   ],
   "source": [
    "data = pd.read_csv('./Advanced-Trading-Analysis-Data.txt', index_col='Date Time', parse_dates=True)\n",
    "dailySPYPrices = data['Adj Close']\n",
    "dailySPYReturns = dailySPYPrices.pct_change(1)\n",
    "dailySPYReturns[0] = 0\n",
    "dailySPYPricesADF = pd.Series(stats.adfuller(dailySPYPrices)[0:2], index=['Test statistic:', 'p-value:'])\n",
    "dailySPYReturnsADF = pd.Series(stats.adfuller(dailySPYReturns)[0:2], index=['Test statistic:', 'p-value:'])\n",
    "print('')\n",
    "print('== SPY Daily Prices Augmented Dickey-Fuller Test ADF ==')\n",
    "print('')\n",
    "print(round(dailySPYPricesADF, 4))\n",
    "print('')\n",
    "print('== SPY Daily Returns Augmented Dickey-Fuller Test ADF ==')\n",
    "print('')\n",
    "print(round(dailySPYReturnsADF, 4))\n",
    "print('')"
   ]
  },
  {
   "cell_type": "markdown",
   "metadata": {},
   "source": [
    "### Create Strategy Class"
   ]
  },
  {
   "cell_type": "code",
   "execution_count": 22,
   "metadata": {},
   "outputs": [],
   "source": [
    "class MeanStrategy3(strategy.BacktestingStrategy):\n",
    "\n",
    "    # 3.1. Define Strategy Initialization Function\n",
    "    def __init__(self, feed, instrument, nper, lowerThreshold, upperThreshold):\n",
    "        super(MeanStrategy3, self).__init__(feed, 10000)\n",
    "        self.position = None\n",
    "        self.instrument = instrument\n",
    "        self.setUseAdjustedValues(True)\n",
    "        self.roc = roc.RateOfChange(feed[instrument].getPriceDataSeries(), 1)\n",
    "        self.zscore = tstats.ZScore(self.roc, nper)\n",
    "        self.lowerThreshold = lowerThreshold\n",
    "        self.upperThreshold = upperThreshold\n",
    "\n",
    "    # 3.2. Define Get Technical Indicators Functions\n",
    "    def getZScore(self):\n",
    "        return self.zscore\n",
    "\n",
    "    # 3.3. Define Overriding Strategy Functions\n",
    "\n",
    "    # onEnterCanceled: Get notified when order submitted to enter a position was canceled and update position\n",
    "    def onEnterCanceled(self, position):\n",
    "        self.position = None\n",
    "\n",
    "    # onExitOk: Get notified when order submitted to exit a position was filled and update position\n",
    "    def onExitOk(self, position):\n",
    "        self.position = None\n",
    "\n",
    "    # onExitCanceled: Get notified when order submitted to exit a position was canceled and re-submit order\n",
    "    def onExitCanceled(self, position):\n",
    "         self.position.exitMarket()\n",
    "\n",
    "    # 3.4. Define Trading Strategy Function\n",
    "\n",
    "    # Mean-Reversion Statistical-Arbitrage Strategy\n",
    "    # Enter Long Order = Buy when Z-Score < Lower Threshold\n",
    "    # Exit Order = Sell when Z-Score > Upper Threshold\n",
    "\n",
    "    def onBars(self, bars):\n",
    "        if self.zscore[-1] is None:\n",
    "            return\n",
    "\n",
    "        if self.position is None:\n",
    "            if self.zscore[-1] < self.lowerThreshold:\n",
    "                # 95% equity investment for difference between order day Close price and next day Open price\n",
    "                # number of shares can also be a fixed quantity for all transactions (ex. self.shares = 10)\n",
    "                self.shares = int(self.getBroker().getCash() * 0.95 / bars[self.instrument].getPrice())\n",
    "                self.position = self.enterLong(self.instrument, self.shares, goodTillCanceled=True)\n",
    "\n",
    "        elif self.zscore[-1] > self.upperThreshold and not self.position.exitActive():\n",
    "            self.position.exitMarket()"
   ]
  },
  {
   "cell_type": "markdown",
   "metadata": {},
   "source": [
    "### Define Run Strategy Function"
   ]
  },
  {
   "cell_type": "code",
   "execution_count": 23,
   "metadata": {},
   "outputs": [],
   "source": [
    "def MeanStrategyRun3(nper, lowerThreshold, upperThreshold, chart):\n",
    "\n",
    "    # 4.1. Create Instruments object with stock tickers\n",
    "    instruments = ['SPY']\n",
    "\n",
    "    # 4.2. Load CSV Feed previously downloaded or read\n",
    "    feed = csvfeed.GenericBarFeed(bar.Frequency.DAY)\n",
    "    feed.addBarsFromCSV(instruments[0], './Advanced-Trading-Analysis-Data.txt', skipMalformedBars=True)\n",
    "\n",
    "    # 4.3. Evaluate Strategy with CSV Feed and Technical Indicator Parameters\n",
    "    meanStrategy3 = MeanStrategy3(feed, instruments[0], nper, lowerThreshold, upperThreshold)\n",
    "\n",
    "    # 4.4. Set Strategy Commission\n",
    "    meanStrategy3.getBroker().setCommission(broker.backtesting.FixedPerTrade(6))\n",
    "\n",
    "    # 4.5. Attach Strategy Trading Statistics Analyzers\n",
    "    retAnalyzer = ret.Returns(maxLen=2518)\n",
    "    meanStrategy3.attachAnalyzer(retAnalyzer)\n",
    "\n",
    "    # 4.6. Attach Strategy Plotter\n",
    "    plt = plotter.StrategyPlotter(meanStrategy3, plotPortfolio=False)\n",
    "    plt.getOrCreateSubplot('ZScore').addDataSeries('ZScore', meanStrategy3.getZScore())\n",
    "    plt.getOrCreateSubplot('ZScore').addLine('Lower', level=-2)\n",
    "    plt.getOrCreateSubplot('ZScore').addLine('Upper', level=2)\n",
    "\n",
    "    # 4.7. Run Strategy\n",
    "    meanStrategy3.run()\n",
    "\n",
    "    # 4.8. Calculate Strategy Returns\n",
    "    datesReturns = retAnalyzer.getReturns().getDateTimes()[:]\n",
    "    dailyReturns = retAnalyzer.getReturns()[:]\n",
    "    dailyReturns = pd.DataFrame(dailyReturns).set_index(pd.DatetimeIndex(datesReturns))\n",
    "\n",
    "    # 4.9. Plot Strategy\n",
    "    if chart == True:\n",
    "        plt.plot(fromDateTime=dt.datetime(2016, 1, 1), toDateTime=dt.datetime(2016, 12, 31))\n",
    "\n",
    "    return dailyReturns"
   ]
  },
  {
   "cell_type": "code",
   "execution_count": 24,
   "metadata": {},
   "outputs": [
    {
     "data": {
      "image/png": "[encoded data removed]",
      "text/plain": [
       "<Figure size 432x288 with 2 Axes>"
      ]
     },
     "metadata": {
      "needs_background": "light"
     },
     "output_type": "display_data"
    },
    {
     "data": {
      "text/html": [
       "<div>\n",
       "<style scoped>\n",
       "    .dataframe tbody tr th:only-of-type {\n",
       "        vertical-align: middle;\n",
       "    }\n",
       "\n",
       "    .dataframe tbody tr th {\n",
       "        vertical-align: top;\n",
       "    }\n",
       "\n",
       "    .dataframe thead th {\n",
       "        text-align: right;\n",
       "    }\n",
       "</style>\n",
       "<table border=\"1\" class=\"dataframe\">\n",
       "  <thead>\n",
       "    <tr style=\"text-align: right;\">\n",
       "      <th></th>\n",
       "      <th>0</th>\n",
       "    </tr>\n",
       "  </thead>\n",
       "  <tbody>\n",
       "    <tr>\n",
       "      <th>2007-01-03</th>\n",
       "      <td>0.000000</td>\n",
       "    </tr>\n",
       "    <tr>\n",
       "      <th>2007-01-04</th>\n",
       "      <td>0.000000</td>\n",
       "    </tr>\n",
       "    <tr>\n",
       "      <th>2007-01-05</th>\n",
       "      <td>0.000000</td>\n",
       "    </tr>\n",
       "    <tr>\n",
       "      <th>2007-01-08</th>\n",
       "      <td>0.000000</td>\n",
       "    </tr>\n",
       "    <tr>\n",
       "      <th>2007-01-09</th>\n",
       "      <td>0.000000</td>\n",
       "    </tr>\n",
       "    <tr>\n",
       "      <th>2007-01-10</th>\n",
       "      <td>0.000000</td>\n",
       "    </tr>\n",
       "    <tr>\n",
       "      <th>2007-01-11</th>\n",
       "      <td>0.000000</td>\n",
       "    </tr>\n",
       "    <tr>\n",
       "      <th>2007-01-12</th>\n",
       "      <td>0.000000</td>\n",
       "    </tr>\n",
       "    <tr>\n",
       "      <th>2007-01-16</th>\n",
       "      <td>0.000000</td>\n",
       "    </tr>\n",
       "    <tr>\n",
       "      <th>2007-01-17</th>\n",
       "      <td>0.000000</td>\n",
       "    </tr>\n",
       "    <tr>\n",
       "      <th>2007-01-18</th>\n",
       "      <td>0.000000</td>\n",
       "    </tr>\n",
       "    <tr>\n",
       "      <th>2007-01-19</th>\n",
       "      <td>0.000000</td>\n",
       "    </tr>\n",
       "    <tr>\n",
       "      <th>2007-01-22</th>\n",
       "      <td>0.000000</td>\n",
       "    </tr>\n",
       "    <tr>\n",
       "      <th>2007-01-23</th>\n",
       "      <td>0.000000</td>\n",
       "    </tr>\n",
       "    <tr>\n",
       "      <th>2007-01-24</th>\n",
       "      <td>0.000000</td>\n",
       "    </tr>\n",
       "    <tr>\n",
       "      <th>2007-01-25</th>\n",
       "      <td>0.000000</td>\n",
       "    </tr>\n",
       "    <tr>\n",
       "      <th>2007-01-26</th>\n",
       "      <td>0.000000</td>\n",
       "    </tr>\n",
       "    <tr>\n",
       "      <th>2007-01-29</th>\n",
       "      <td>0.000000</td>\n",
       "    </tr>\n",
       "    <tr>\n",
       "      <th>2007-01-30</th>\n",
       "      <td>0.000000</td>\n",
       "    </tr>\n",
       "    <tr>\n",
       "      <th>2007-01-31</th>\n",
       "      <td>0.000000</td>\n",
       "    </tr>\n",
       "    <tr>\n",
       "      <th>2007-02-01</th>\n",
       "      <td>0.000000</td>\n",
       "    </tr>\n",
       "    <tr>\n",
       "      <th>2007-02-02</th>\n",
       "      <td>0.000000</td>\n",
       "    </tr>\n",
       "    <tr>\n",
       "      <th>2007-02-05</th>\n",
       "      <td>0.000000</td>\n",
       "    </tr>\n",
       "    <tr>\n",
       "      <th>2007-02-06</th>\n",
       "      <td>0.000000</td>\n",
       "    </tr>\n",
       "    <tr>\n",
       "      <th>2007-02-07</th>\n",
       "      <td>0.000000</td>\n",
       "    </tr>\n",
       "    <tr>\n",
       "      <th>2007-02-08</th>\n",
       "      <td>0.000000</td>\n",
       "    </tr>\n",
       "    <tr>\n",
       "      <th>2007-02-09</th>\n",
       "      <td>0.000000</td>\n",
       "    </tr>\n",
       "    <tr>\n",
       "      <th>2007-02-12</th>\n",
       "      <td>0.000000</td>\n",
       "    </tr>\n",
       "    <tr>\n",
       "      <th>2007-02-13</th>\n",
       "      <td>0.000000</td>\n",
       "    </tr>\n",
       "    <tr>\n",
       "      <th>2007-02-14</th>\n",
       "      <td>0.000000</td>\n",
       "    </tr>\n",
       "    <tr>\n",
       "      <th>...</th>\n",
       "      <td>...</td>\n",
       "    </tr>\n",
       "    <tr>\n",
       "      <th>2016-11-17</th>\n",
       "      <td>0.000000</td>\n",
       "    </tr>\n",
       "    <tr>\n",
       "      <th>2016-11-18</th>\n",
       "      <td>0.000000</td>\n",
       "    </tr>\n",
       "    <tr>\n",
       "      <th>2016-11-21</th>\n",
       "      <td>0.000000</td>\n",
       "    </tr>\n",
       "    <tr>\n",
       "      <th>2016-11-22</th>\n",
       "      <td>0.000000</td>\n",
       "    </tr>\n",
       "    <tr>\n",
       "      <th>2016-11-23</th>\n",
       "      <td>0.000000</td>\n",
       "    </tr>\n",
       "    <tr>\n",
       "      <th>2016-11-25</th>\n",
       "      <td>0.000000</td>\n",
       "    </tr>\n",
       "    <tr>\n",
       "      <th>2016-11-28</th>\n",
       "      <td>0.000000</td>\n",
       "    </tr>\n",
       "    <tr>\n",
       "      <th>2016-11-29</th>\n",
       "      <td>0.000000</td>\n",
       "    </tr>\n",
       "    <tr>\n",
       "      <th>2016-11-30</th>\n",
       "      <td>0.000000</td>\n",
       "    </tr>\n",
       "    <tr>\n",
       "      <th>2016-12-01</th>\n",
       "      <td>0.000000</td>\n",
       "    </tr>\n",
       "    <tr>\n",
       "      <th>2016-12-02</th>\n",
       "      <td>0.000000</td>\n",
       "    </tr>\n",
       "    <tr>\n",
       "      <th>2016-12-05</th>\n",
       "      <td>0.000000</td>\n",
       "    </tr>\n",
       "    <tr>\n",
       "      <th>2016-12-06</th>\n",
       "      <td>0.000000</td>\n",
       "    </tr>\n",
       "    <tr>\n",
       "      <th>2016-12-07</th>\n",
       "      <td>0.000000</td>\n",
       "    </tr>\n",
       "    <tr>\n",
       "      <th>2016-12-08</th>\n",
       "      <td>0.000000</td>\n",
       "    </tr>\n",
       "    <tr>\n",
       "      <th>2016-12-09</th>\n",
       "      <td>0.000000</td>\n",
       "    </tr>\n",
       "    <tr>\n",
       "      <th>2016-12-12</th>\n",
       "      <td>0.000000</td>\n",
       "    </tr>\n",
       "    <tr>\n",
       "      <th>2016-12-13</th>\n",
       "      <td>0.000000</td>\n",
       "    </tr>\n",
       "    <tr>\n",
       "      <th>2016-12-14</th>\n",
       "      <td>0.000000</td>\n",
       "    </tr>\n",
       "    <tr>\n",
       "      <th>2016-12-15</th>\n",
       "      <td>0.002327</td>\n",
       "    </tr>\n",
       "    <tr>\n",
       "      <th>2016-12-16</th>\n",
       "      <td>-0.001846</td>\n",
       "    </tr>\n",
       "    <tr>\n",
       "      <th>2016-12-19</th>\n",
       "      <td>0.002055</td>\n",
       "    </tr>\n",
       "    <tr>\n",
       "      <th>2016-12-20</th>\n",
       "      <td>0.003642</td>\n",
       "    </tr>\n",
       "    <tr>\n",
       "      <th>2016-12-21</th>\n",
       "      <td>-0.002628</td>\n",
       "    </tr>\n",
       "    <tr>\n",
       "      <th>2016-12-22</th>\n",
       "      <td>-0.001631</td>\n",
       "    </tr>\n",
       "    <tr>\n",
       "      <th>2016-12-23</th>\n",
       "      <td>0.001382</td>\n",
       "    </tr>\n",
       "    <tr>\n",
       "      <th>2016-12-27</th>\n",
       "      <td>0.002342</td>\n",
       "    </tr>\n",
       "    <tr>\n",
       "      <th>2016-12-28</th>\n",
       "      <td>-0.007804</td>\n",
       "    </tr>\n",
       "    <tr>\n",
       "      <th>2016-12-29</th>\n",
       "      <td>-0.000210</td>\n",
       "    </tr>\n",
       "    <tr>\n",
       "      <th>2016-12-30</th>\n",
       "      <td>-0.003450</td>\n",
       "    </tr>\n",
       "  </tbody>\n",
       "</table>\n",
       "<p>2516 rows × 1 columns</p>\n",
       "</div>"
      ],
      "text/plain": [
       "                   0\n",
       "2007-01-03  0.000000\n",
       "2007-01-04  0.000000\n",
       "2007-01-05  0.000000\n",
       "2007-01-08  0.000000\n",
       "2007-01-09  0.000000\n",
       "2007-01-10  0.000000\n",
       "2007-01-11  0.000000\n",
       "2007-01-12  0.000000\n",
       "2007-01-16  0.000000\n",
       "2007-01-17  0.000000\n",
       "2007-01-18  0.000000\n",
       "2007-01-19  0.000000\n",
       "2007-01-22  0.000000\n",
       "2007-01-23  0.000000\n",
       "2007-01-24  0.000000\n",
       "2007-01-25  0.000000\n",
       "2007-01-26  0.000000\n",
       "2007-01-29  0.000000\n",
       "2007-01-30  0.000000\n",
       "2007-01-31  0.000000\n",
       "2007-02-01  0.000000\n",
       "2007-02-02  0.000000\n",
       "2007-02-05  0.000000\n",
       "2007-02-06  0.000000\n",
       "2007-02-07  0.000000\n",
       "2007-02-08  0.000000\n",
       "2007-02-09  0.000000\n",
       "2007-02-12  0.000000\n",
       "2007-02-13  0.000000\n",
       "2007-02-14  0.000000\n",
       "...              ...\n",
       "2016-11-17  0.000000\n",
       "2016-11-18  0.000000\n",
       "2016-11-21  0.000000\n",
       "2016-11-22  0.000000\n",
       "2016-11-23  0.000000\n",
       "2016-11-25  0.000000\n",
       "2016-11-28  0.000000\n",
       "2016-11-29  0.000000\n",
       "2016-11-30  0.000000\n",
       "2016-12-01  0.000000\n",
       "2016-12-02  0.000000\n",
       "2016-12-05  0.000000\n",
       "2016-12-06  0.000000\n",
       "2016-12-07  0.000000\n",
       "2016-12-08  0.000000\n",
       "2016-12-09  0.000000\n",
       "2016-12-12  0.000000\n",
       "2016-12-13  0.000000\n",
       "2016-12-14  0.000000\n",
       "2016-12-15  0.002327\n",
       "2016-12-16 -0.001846\n",
       "2016-12-19  0.002055\n",
       "2016-12-20  0.003642\n",
       "2016-12-21 -0.002628\n",
       "2016-12-22 -0.001631\n",
       "2016-12-23  0.001382\n",
       "2016-12-27  0.002342\n",
       "2016-12-28 -0.007804\n",
       "2016-12-29 -0.000210\n",
       "2016-12-30 -0.003450\n",
       "\n",
       "[2516 rows x 1 columns]"
      ]
     },
     "execution_count": 24,
     "metadata": {},
     "output_type": "execute_result"
    }
   ],
   "source": [
    "# 4.10. Plot Strategy Example\n",
    "MeanStrategyRun3(21, -2, 2, True)"
   ]
  },
  {
   "cell_type": "markdown",
   "metadata": {},
   "source": [
    "### Do Strategy Parameters Optimization and Calculate Performance Metrics"
   ]
  },
  {
   "cell_type": "code",
   "execution_count": 26,
   "metadata": {},
   "outputs": [],
   "source": [
    "# 5.1. Create Strategy Optimization Parameters Combinations\n",
    "lowerThreshold = (-2.5, -2)\n",
    "upperThreshold = (2, 2.5)\n",
    "pool = [lowerThreshold, upperThreshold]"
   ]
  },
  {
   "cell_type": "code",
   "execution_count": 27,
   "metadata": {},
   "outputs": [],
   "source": [
    "# 5.2. Calculate Benchmark Daily Returns\n",
    "# 100% equity investment for buy and hold benchmark\n",
    "mean3DailyReturns = dailySPYReturns\n",
    "mean3DailyReturns = pd.DataFrame(mean3DailyReturns)"
   ]
  },
  {
   "cell_type": "code",
   "execution_count": 28,
   "metadata": {},
   "outputs": [
    {
     "name": "stdout",
     "output_type": "stream",
     "text": [
      "\n",
      "== Strategy Parameters Optimization ==\n",
      "\n",
      "Parameters Combinations (lowerThreshold, upperThreshold):\n",
      "(-2.5, 2)\n",
      "(-2.5, 2.5)\n",
      "(-2, 2)\n",
      "(-2, 2.5)\n",
      "\n",
      "Optimization Running Time:  1.314  seconds\n",
      "\n"
     ]
    }
   ],
   "source": [
    "# 5.3. Do Strategy Optimization\n",
    "mean3StartOptimization = time.time()\n",
    "print('')\n",
    "print('== Strategy Parameters Optimization ==')\n",
    "print('')\n",
    "print('Parameters Combinations (lowerThreshold, upperThreshold):')\n",
    "for n in itertools.product(*pool):\n",
    "    print(n)\n",
    "    mean3DailyReturns.insert(len(mean3DailyReturns.columns), n, MeanStrategyRun3(21, n[0], n[1], False))\n",
    "mean3EndOptimization = time.time()\n",
    "mean3DailyReturns.columns = ['B&H', 'Mn3Ret1', 'Mn3Ret2', 'Mn3Ret3', 'Mn3Ret4']\n",
    "print('')\n",
    "print('Optimization Running Time: ', round(mean3EndOptimization - mean3StartOptimization, 4), ' seconds')\n",
    "print('')"
   ]
  },
  {
   "cell_type": "code",
   "execution_count": 29,
   "metadata": {},
   "outputs": [],
   "source": [
    "# 5.4. Define Cumulative Returns and Performance Metrics Functions\n",
    "def CumulativeReturns(dailyReturns):\n",
    "    cumulativeReturns = np.cumprod(dailyReturns + 1) ** (252 / len(dailyReturns)) - 1\n",
    "    return cumulativeReturns\n",
    "\n",
    "def PerformanceMetrics(dailyReturns):\n",
    "    annualizedReturn = (np.cumprod(dailyReturns + 1) ** (252 / len(dailyReturns)) - 1)[-1]\n",
    "    annualizedStdDev = np.std(dailyReturns) * np.sqrt(252)\n",
    "    annualizedSharpe = annualizedReturn / annualizedStdDev\n",
    "    return annualizedReturn, annualizedStdDev, annualizedSharpe"
   ]
  },
  {
   "cell_type": "code",
   "execution_count": 31,
   "metadata": {},
   "outputs": [
    {
     "data": {
      "image/png": "[encoded data removed]",
      "text/plain": [
       "<Figure size 432x288 with 1 Axes>"
      ]
     },
     "metadata": {
      "needs_background": "light"
     },
     "output_type": "display_data"
    }
   ],
   "source": [
    "mean3CumulativeReturns = mean3DailyReturns.apply(CumulativeReturns, axis=0)\n",
    "plt.plot(mean3CumulativeReturns['B&H'], label='B&H')\n",
    "plt.plot(mean3CumulativeReturns['Mn3Ret1'], label='Mn3Ret1')\n",
    "plt.plot(mean3CumulativeReturns['Mn3Ret2'], label='Mn3Ret2')\n",
    "plt.plot(mean3CumulativeReturns['Mn3Ret3'], label='Mn3Ret3')\n",
    "plt.plot(mean3CumulativeReturns['Mn3Ret4'], label='Mn3Ret4')\n",
    "plt.title('Strategy Parameters Optimization Cumulative Returns')\n",
    "plt.legend(loc='upper left')\n",
    "plt.show()"
   ]
  },
  {
   "cell_type": "code",
   "execution_count": 32,
   "metadata": {},
   "outputs": [
    {
     "name": "stdout",
     "output_type": "stream",
     "text": [
      "\n",
      "== Strategy Parameters Optimization Performace Summary ==\n",
      "\n",
      "                      0       1        2        3        4        5\n",
      "0           Annualized:     B&H  Mn3Ret1  Mn3Ret2  Mn3Ret3  Mn3Ret4\n",
      "1                Return   0.069   0.0243   0.0308   0.0448   0.0385\n",
      "2    Standard Deviation  0.2084   0.1056   0.1371   0.1198     0.15\n",
      "3  Sharpe Ratio (Rf=0%)  0.3309     0.23   0.2244   0.3739   0.2564\n",
      "\n"
     ]
    }
   ],
   "source": [
    "# 5.6. Calculate Performance Metrics and Print Summary Table\n",
    "mean3PerformanceMetrics = mean3DailyReturns.apply(PerformanceMetrics, axis=0)\n",
    "mean3PerformanceSummary = [{'0': 'Annualized:', '1': 'B&H', '2': 'Mn3Ret1', '3': 'Mn3Ret2', '4': 'Mn3Ret3',\n",
    "                             '5': 'Mn3Ret4'},\n",
    "        {'0': 'Return',\n",
    "         '1': np.round(mean3PerformanceMetrics[0][0], 4), '2': np.round(mean3PerformanceMetrics[1][0], 4),\n",
    "         '3': np.round(mean3PerformanceMetrics[2][0], 4), '4': np.round(mean3PerformanceMetrics[3][0], 4),\n",
    "         '5': np.round(mean3PerformanceMetrics[4][0], 4)},\n",
    "        {'0': 'Standard Deviation',\n",
    "         '1': np.round(mean3PerformanceMetrics[0][1], 4), '2': np.round(mean3PerformanceMetrics[1][1], 4),\n",
    "         '3': np.round(mean3PerformanceMetrics[2][1], 4), '4': np.round(mean3PerformanceMetrics[3][1], 4),\n",
    "         '5': np.round(mean3PerformanceMetrics[4][1], 4)},\n",
    "        {'0': 'Sharpe Ratio (Rf=0%)',\n",
    "         '1': np.round(mean3PerformanceMetrics[0][2], 4), '2': np.round(mean3PerformanceMetrics[1][2], 4),\n",
    "         '3': np.round(mean3PerformanceMetrics[2][2], 4), '4': np.round(mean3PerformanceMetrics[3][2], 4),\n",
    "         '5': np.round(mean3PerformanceMetrics[4][2], 4)}]\n",
    "mean3PerformanceSummary = pd.DataFrame(mean3PerformanceSummary)\n",
    "print('')\n",
    "print('== Strategy Parameters Optimization Performace Summary ==')\n",
    "print('')\n",
    "print(mean3PerformanceSummary)\n",
    "print('')"
   ]
  },
  {
   "cell_type": "markdown",
   "metadata": {},
   "source": [
    "### Do Multiple Hypothesis Testing P-Values Adjustments"
   ]
  },
  {
   "cell_type": "code",
   "execution_count": 33,
   "metadata": {},
   "outputs": [],
   "source": [
    "# 6.1. Calculate Multiple Hypothesis Testing P-Values\n",
    "mean3MultipleTTests = mean3DailyReturns.iloc[:, 1:5].apply(st.ttest_1samp, axis=0, popmean=0, nan_policy='omit')\n",
    "mean3MultiplePValues = (mean3MultipleTTests[0][1], mean3MultipleTTests[1][1], mean3MultipleTTests[2][1],\n",
    "                         mean3MultipleTTests[3][1])"
   ]
  },
  {
   "cell_type": "code",
   "execution_count": 34,
   "metadata": {},
   "outputs": [],
   "source": [
    "# 6.2. Adjust Multiple Hypothesis Testing P-Values Calculations\n",
    "mean3MultiplePValuesFWE = mt.multipletests(mean3MultiplePValues, alpha=0.05, method='bonferroni',\n",
    "                                                   is_sorted=False, returnsorted=False)\n",
    "mean3MultiplePValuesFDR = mt.multipletests(mean3MultiplePValues, alpha=0.05, method='fdr_bh',\n",
    "                                                   is_sorted=False, returnsorted=False)"
   ]
  },
  {
   "cell_type": "code",
   "execution_count": 35,
   "metadata": {},
   "outputs": [
    {
     "name": "stdout",
     "output_type": "stream",
     "text": [
      "\n",
      "== Multiple Hypothesis Testing P-Values Adjustments ==\n",
      "\n",
      "             0        1        2        3        4\n",
      "0               Mn3Ret1  Mn3Ret2  Mn3Ret3  Mn3Ret4\n",
      "1      PValues   0.3765   0.3603   0.1787   0.3021\n",
      "2  PValues FWE        1        1   0.7149        1\n",
      "3  PValues FDR   0.3765   0.3765   0.3765   0.3765\n",
      "\n"
     ]
    }
   ],
   "source": [
    "# 6.3. Print Multiple Hypothesis Testing P-Values Adjustment Summary Table\n",
    "mean3MultiplePValuesSummary = [{'0': '', '1': 'Mn3Ret1', '2': 'Mn3Ret2', '3': 'Mn3Ret3', '4': 'Mn3Ret4'},\n",
    "        {'0': 'PValues',\n",
    "         '1': np.round(mean3MultiplePValues[0], 4), '2': np.round(mean3MultiplePValues[1], 4),\n",
    "         '3': np.round(mean3MultiplePValues[2], 4), '4': np.round(mean3MultiplePValues[3], 4)},\n",
    "        {'0': 'PValues FWE',\n",
    "         '1': np.round(mean3MultiplePValuesFWE[1][0], 4), '2': np.round(mean3MultiplePValuesFWE[1][1], 4),\n",
    "         '3': np.round(mean3MultiplePValuesFWE[1][2], 4), '4': np.round(mean3MultiplePValuesFWE[1][3], 4)},\n",
    "        {'0': 'PValues FDR',\n",
    "         '1': np.round(mean3MultiplePValuesFDR[1][0], 4), '2': np.round(mean3MultiplePValuesFDR[1][1], 4),\n",
    "         '3': np.round(mean3MultiplePValuesFDR[1][2], 4), '4': np.round(mean3MultiplePValuesFDR[1][3], 4)}]\n",
    "mean3MultiplePValuesSummary = pd.DataFrame(mean3MultiplePValuesSummary)\n",
    "print('')\n",
    "print('== Multiple Hypothesis Testing P-Values Adjustments ==')\n",
    "print('')\n",
    "print(mean3MultiplePValuesSummary)\n",
    "print('')"
   ]
  },
  {
   "cell_type": "markdown",
   "metadata": {},
   "source": [
    "# Do Individual Time Series Bootstrap P-Value Multiple Comparison Adjustment"
   ]
  },
  {
   "cell_type": "code",
   "execution_count": 37,
   "metadata": {},
   "outputs": [
    {
     "name": "stdout",
     "output_type": "stream",
     "text": [
      "\n",
      "== Individual Time Series Bootstrap ==\n",
      "\n",
      "\n",
      "Bootstrap Running Time:  0.3151  seconds\n",
      "\n"
     ]
    }
   ],
   "source": [
    "# 7.1. Define Bootstrap Mean Function\n",
    "def bmean(x):\n",
    "    return x.mean(0)\n",
    "\n",
    "# 7.2. Do Individual Time Series Bootstrap\n",
    "mean3StartBoot = time.time()\n",
    "print('')\n",
    "print('== Individual Time Series Bootstrap ==')\n",
    "print('')\n",
    "mean3Boot = boot.CircularBlockBootstrap(block_size=10, x=mean3DailyReturns.iloc[:, 3])\n",
    "mean3BootMeans = mean3Boot.apply(func=bmean, reps=1000)\n",
    "mean3BootIntervals = mean3Boot.conf_int(func=bmean, reps=1000, method='percentile', size=0.95, tail='two')\n",
    "mean3EndBoot = time.time()\n",
    "print('')\n",
    "print('Bootstrap Running Time: ', round(mean3EndBoot - mean3StartBoot, 4), ' seconds')\n",
    "print('')"
   ]
  },
  {
   "cell_type": "code",
   "execution_count": 38,
   "metadata": {},
   "outputs": [
    {
     "data": {
      "image/png": "[encoded data removed]",
      "text/plain": [
       "<Figure size 432x288 with 1 Axes>"
      ]
     },
     "metadata": {
      "needs_background": "light"
     },
     "output_type": "display_data"
    }
   ],
   "source": [
    "# 7.3. Chart Individual Time Series Bootstrap Histogram\n",
    "plt.hist(mean3BootMeans, bins=20, density=True, label='BootMeans')\n",
    "plt.title('Population Mean Probability Distribution Simulation')\n",
    "plt.axvline(x=np.mean(mean3DailyReturns.iloc[:, 3]), color='purple', linestyle='--', label='mean(Mn3Ret3)')\n",
    "plt.axvline(x=np.mean(mean3BootMeans), color='red', linestyle='--', label='mean(BootMeans)')\n",
    "plt.axvline(x=0, color='orange', linestyle='--')\n",
    "plt.axvline(x=mean3BootIntervals[0], color='green', linestyle='--', label='BootLowerCI')\n",
    "plt.axvline(x=mean3BootIntervals[1], color='green', linestyle='--', label='BootUpperCI')\n",
    "plt.ylabel('Density')\n",
    "plt.xlabel('Bin Edges')\n",
    "plt.legend(loc='upper right')\n",
    "plt.show()"
   ]
  },
  {
   "cell_type": "code",
   "execution_count": 39,
   "metadata": {},
   "outputs": [],
   "source": [
    "# 7.4. Calculate Individual Time Series Bootstrap P-Value\n",
    "mean3BootPValue = 2 * min(np.mean(mean3BootMeans <= 0), np.mean(mean3BootMeans > 0))"
   ]
  },
  {
   "cell_type": "code",
   "execution_count": 40,
   "metadata": {},
   "outputs": [
    {
     "name": "stdout",
     "output_type": "stream",
     "text": [
      "\n",
      "== Individual Time Series Bootstrap Hypothesis Testing ==\n",
      "\n",
      "Mn3Ret3 P-Value: 0.122\n",
      "Mn3Ret3 P-Value FWE: 0.4057\n"
     ]
    }
   ],
   "source": [
    "# 7.5. Adjust Individual Time Series Bootstrap P-Value Calculation\n",
    "mean3BootPValueFWE = 1 - (1 - mean3BootPValue) ** 4\n",
    "print('')\n",
    "print('== Individual Time Series Bootstrap Hypothesis Testing ==')\n",
    "print('')\n",
    "print('Mn3Ret3 P-Value:', np.round(mean3BootPValue, 4))\n",
    "print('Mn3Ret3 P-Value FWE:', np.round(mean3BootPValueFWE, 4))"
   ]
  },
  {
   "cell_type": "code",
   "execution_count": null,
   "metadata": {},
   "outputs": [],
   "source": []
  }
 ],
 "metadata": {
  "kernelspec": {
   "display_name": "Python 3",
   "language": "python",
   "name": "python3"
  },
  "language_info": {
   "codemirror_mode": {
    "name": "ipython",
    "version": 3
   },
   "file_extension": ".py",
   "mimetype": "text/x-python",
   "name": "python",
   "nbconvert_exporter": "python",
   "pygments_lexer": "ipython3",
   "version": "3.7.3"
  }
 },
 "nbformat": 4,
 "nbformat_minor": 4
}
