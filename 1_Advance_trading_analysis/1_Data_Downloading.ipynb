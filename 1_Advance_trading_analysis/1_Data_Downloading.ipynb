{
 "cells": [
  {
   "cell_type": "markdown",
   "metadata": {},
   "source": [
    "# Downloading Data to Trading Analysis"
   ]
  },
  {
   "cell_type": "markdown",
   "metadata": {},
   "source": [
    "### Import libraries"
   ]
  },
  {
   "cell_type": "code",
   "execution_count": 2,
   "metadata": {},
   "outputs": [],
   "source": [
    "import pandas as pd\n",
    "import pandas_datareader as web"
   ]
  },
  {
   "cell_type": "markdown",
   "metadata": {},
   "source": [
    "### Download Data"
   ]
  },
  {
   "cell_type": "code",
   "execution_count": 5,
   "metadata": {},
   "outputs": [],
   "source": [
    "#data = web.DataReader('SPY', 'Yahoo', '2007-01-01', '2017-01-01') #Doesn't work in yahoo anymore\n",
    "# data = data.loc[:, ['Open', 'High', 'Low', 'Close', 'Volume', 'Adj Close']]\n",
    "# data.index = data.index.astype(str) + ' 00:00:00'\n",
    "# data.index.rename('Date Time', inplace=True)\n",
    "# data.to_csv('Data//Advanced-Trading-Analysis-Data.txt')"
   ]
  },
  {
   "cell_type": "code",
   "execution_count": 7,
   "metadata": {},
   "outputs": [],
   "source": [
    "data = pd.read_csv('Advanced-Trading-Analysis-Data.txt')"
   ]
  },
  {
   "cell_type": "code",
   "execution_count": 8,
   "metadata": {},
   "outputs": [
    {
     "data": {
      "text/html": [
       "<div>\n",
       "<style scoped>\n",
       "    .dataframe tbody tr th:only-of-type {\n",
       "        vertical-align: middle;\n",
       "    }\n",
       "\n",
       "    .dataframe tbody tr th {\n",
       "        vertical-align: top;\n",
       "    }\n",
       "\n",
       "    .dataframe thead th {\n",
       "        text-align: right;\n",
       "    }\n",
       "</style>\n",
       "<table border=\"1\" class=\"dataframe\">\n",
       "  <thead>\n",
       "    <tr style=\"text-align: right;\">\n",
       "      <th></th>\n",
       "      <th>Date Time</th>\n",
       "      <th>Open</th>\n",
       "      <th>High</th>\n",
       "      <th>Low</th>\n",
       "      <th>Close</th>\n",
       "      <th>Volume</th>\n",
       "      <th>Adj Close</th>\n",
       "    </tr>\n",
       "  </thead>\n",
       "  <tbody>\n",
       "    <tr>\n",
       "      <th>0</th>\n",
       "      <td>2007-01-03 00:00:00</td>\n",
       "      <td>142.250000</td>\n",
       "      <td>142.860001</td>\n",
       "      <td>140.570007</td>\n",
       "      <td>141.369995</td>\n",
       "      <td>94807600</td>\n",
       "      <td>113.757523</td>\n",
       "    </tr>\n",
       "    <tr>\n",
       "      <th>1</th>\n",
       "      <td>2007-01-04 00:00:00</td>\n",
       "      <td>141.229996</td>\n",
       "      <td>142.050003</td>\n",
       "      <td>140.610001</td>\n",
       "      <td>141.669998</td>\n",
       "      <td>69620600</td>\n",
       "      <td>113.998940</td>\n",
       "    </tr>\n",
       "    <tr>\n",
       "      <th>2</th>\n",
       "      <td>2007-01-05 00:00:00</td>\n",
       "      <td>141.330002</td>\n",
       "      <td>141.399994</td>\n",
       "      <td>140.380005</td>\n",
       "      <td>140.539993</td>\n",
       "      <td>76645300</td>\n",
       "      <td>113.089668</td>\n",
       "    </tr>\n",
       "    <tr>\n",
       "      <th>3</th>\n",
       "      <td>2007-01-08 00:00:00</td>\n",
       "      <td>140.820007</td>\n",
       "      <td>141.410004</td>\n",
       "      <td>140.250000</td>\n",
       "      <td>141.190002</td>\n",
       "      <td>71655000</td>\n",
       "      <td>113.612640</td>\n",
       "    </tr>\n",
       "    <tr>\n",
       "      <th>4</th>\n",
       "      <td>2007-01-09 00:00:00</td>\n",
       "      <td>141.309998</td>\n",
       "      <td>141.600006</td>\n",
       "      <td>140.399994</td>\n",
       "      <td>141.070007</td>\n",
       "      <td>75680100</td>\n",
       "      <td>113.516121</td>\n",
       "    </tr>\n",
       "  </tbody>\n",
       "</table>\n",
       "</div>"
      ],
      "text/plain": [
       "             Date Time        Open        High         Low       Close  \\\n",
       "0  2007-01-03 00:00:00  142.250000  142.860001  140.570007  141.369995   \n",
       "1  2007-01-04 00:00:00  141.229996  142.050003  140.610001  141.669998   \n",
       "2  2007-01-05 00:00:00  141.330002  141.399994  140.380005  140.539993   \n",
       "3  2007-01-08 00:00:00  140.820007  141.410004  140.250000  141.190002   \n",
       "4  2007-01-09 00:00:00  141.309998  141.600006  140.399994  141.070007   \n",
       "\n",
       "     Volume   Adj Close  \n",
       "0  94807600  113.757523  \n",
       "1  69620600  113.998940  \n",
       "2  76645300  113.089668  \n",
       "3  71655000  113.612640  \n",
       "4  75680100  113.516121  "
      ]
     },
     "execution_count": 8,
     "metadata": {},
     "output_type": "execute_result"
    }
   ],
   "source": [
    "data.head()"
   ]
  },
  {
   "cell_type": "code",
   "execution_count": 11,
   "metadata": {},
   "outputs": [
    {
     "data": {
      "text/plain": [
       "(2518, 7)"
      ]
     },
     "execution_count": 11,
     "metadata": {},
     "output_type": "execute_result"
    }
   ],
   "source": [
    "data.shape"
   ]
  },
  {
   "cell_type": "code",
   "execution_count": null,
   "metadata": {},
   "outputs": [],
   "source": []
  }
 ],
 "metadata": {
  "kernelspec": {
   "display_name": "Python 3",
   "language": "python",
   "name": "python3"
  },
  "language_info": {
   "codemirror_mode": {
    "name": "ipython",
    "version": 3
   },
   "file_extension": ".py",
   "mimetype": "text/x-python",
   "name": "python",
   "nbconvert_exporter": "python",
   "pygments_lexer": "ipython3",
   "version": "3.7.3"
  }
 },
 "nbformat": 4,
 "nbformat_minor": 4
}
